{
 "cells": [
  {
   "cell_type": "code",
   "execution_count": 1,
   "id": "8861a8f1",
   "metadata": {},
   "outputs": [
    {
     "ename": "IndexError",
     "evalue": "index 5 is out of bounds for dimension 0 with size 3",
     "output_type": "error",
     "traceback": [
      "\u001b[0;31m---------------------------------------------------------------------------\u001b[0m",
      "\u001b[0;31mIndexError\u001b[0m                                Traceback (most recent call last)",
      "Cell \u001b[0;32mIn[1], line 8\u001b[0m\n\u001b[1;32m      3\u001b[0m \u001b[38;5;66;03m# torch.masked_select(input, mask, *, out=None) → Tensor\u001b[39;00m\n\u001b[1;32m      4\u001b[0m \u001b[38;5;66;03m# 返回input中mask为True的元素，组成1维tensor\u001b[39;00m\n\u001b[1;32m      5\u001b[0m \u001b[38;5;66;03m# input 和mask的维度不一定要相同,但是需要可以扩展成同样维度\u001b[39;00m\n\u001b[1;32m      7\u001b[0m x \u001b[38;5;241m=\u001b[39m torch\u001b[38;5;241m.\u001b[39mrandn(\u001b[38;5;241m3\u001b[39m, \u001b[38;5;241m4\u001b[39m)\n\u001b[0;32m----> 8\u001b[0m \u001b[38;5;28mprint\u001b[39m(\u001b[43mx\u001b[49m\u001b[43m[\u001b[49m\u001b[38;5;241;43m5\u001b[39;49m\u001b[43m]\u001b[49m)\n\u001b[1;32m      9\u001b[0m mask \u001b[38;5;241m=\u001b[39m [\u001b[38;5;28;01mFalse\u001b[39;00m,\u001b[38;5;28;01mTrue\u001b[39;00m,\u001b[38;5;28;01mFalse\u001b[39;00m]\n\u001b[1;32m     10\u001b[0m \u001b[38;5;28mprint\u001b[39m(x[mask])\n",
      "\u001b[0;31mIndexError\u001b[0m: index 5 is out of bounds for dimension 0 with size 3"
     ]
    }
   ],
   "source": [
    "\n",
    "import torch\n",
    " \n",
    "# torch.masked_select(input, mask, *, out=None) → Tensor\n",
    "# 返回input中mask为True的元素，组成1维tensor\n",
    "# input 和mask的维度不一定要相同,但是需要可以扩展成同样维度\n",
    " \n",
    "x = torch.randn(3, 4)\n",
    "print(x[5])\n",
    "mask = [False,True,False]\n",
    "print(x[mask])"
   ]
  },
  {
   "cell_type": "code",
   "execution_count": null,
   "id": "82fc757a",
   "metadata": {},
   "outputs": [],
   "source": []
  },
  {
   "cell_type": "code",
   "execution_count": null,
   "id": "590ecd7d",
   "metadata": {},
   "outputs": [],
   "source": []
  },
  {
   "cell_type": "code",
   "execution_count": null,
   "id": "dc29fe1d",
   "metadata": {},
   "outputs": [],
   "source": []
  },
  {
   "cell_type": "code",
   "execution_count": null,
   "id": "fdbd64b1",
   "metadata": {},
   "outputs": [],
   "source": []
  },
  {
   "cell_type": "code",
   "execution_count": null,
   "id": "909895a7",
   "metadata": {},
   "outputs": [],
   "source": []
  }
 ],
 "metadata": {
  "kernelspec": {
   "display_name": "instant0",
   "language": "python",
   "name": "instant0"
  },
  "language_info": {
   "codemirror_mode": {
    "name": "ipython",
    "version": 3
   },
   "file_extension": ".py",
   "mimetype": "text/x-python",
   "name": "python",
   "nbconvert_exporter": "python",
   "pygments_lexer": "ipython3",
   "version": "3.8.16"
  }
 },
 "nbformat": 4,
 "nbformat_minor": 5
}
